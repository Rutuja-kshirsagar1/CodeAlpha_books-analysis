{
 "cells": [
  {
   "cell_type": "code",
   "execution_count": 1,
   "id": "f610719e",
   "metadata": {},
   "outputs": [],
   "source": [
    "# Import libraries\n",
    "import requests\n",
    "from bs4 import BeautifulSoup\n",
    "from urllib.parse import urljoin\n",
    "import time\n",
    "import pandas as pd\n",
    "import matplotlib.pyplot as plt\n",
    "import seaborn as sns\n"
   ]
  },
  {
   "cell_type": "code",
   "execution_count": 2,
   "id": "95430d8d",
   "metadata": {},
   "outputs": [],
   "source": [
    "# Base URL\n",
    "BASE = \"http://books.toscrape.com/\"\n",
    "\n",
    "# Function to parse one book card\n",
    "def parse_book(book):\n",
    "    import re\n",
    "    title = book.h3.a['title']\n",
    "    price_text = book.select_one('p.price_color').text.strip()\n",
    "    price = float(re.sub(r\"[^\\d.]\", \"\", price_text))   # fixed line\n",
    "    avail = book.select_one('p.instock.availability').text.strip()\n",
    "    rating_class = book.select_one('p.star-rating')['class'][1]\n",
    "    rating_map = {'One':1,'Two':2,'Three':3,'Four':4,'Five':5}\n",
    "    rating = rating_map.get(rating_class, None)\n",
    "    return {'title': title, 'price': price, 'availability': avail, 'rating': rating}"
   ]
  },
  {
   "cell_type": "code",
   "execution_count": 4,
   "id": "0db097e7",
   "metadata": {},
   "outputs": [
    {
     "data": {
      "text/html": [
       "<div>\n",
       "<style scoped>\n",
       "    .dataframe tbody tr th:only-of-type {\n",
       "        vertical-align: middle;\n",
       "    }\n",
       "\n",
       "    .dataframe tbody tr th {\n",
       "        vertical-align: top;\n",
       "    }\n",
       "\n",
       "    .dataframe thead th {\n",
       "        text-align: right;\n",
       "    }\n",
       "</style>\n",
       "<table border=\"1\" class=\"dataframe\">\n",
       "  <thead>\n",
       "    <tr style=\"text-align: right;\">\n",
       "      <th></th>\n",
       "      <th>title</th>\n",
       "      <th>price</th>\n",
       "      <th>availability</th>\n",
       "      <th>rating</th>\n",
       "    </tr>\n",
       "  </thead>\n",
       "  <tbody>\n",
       "    <tr>\n",
       "      <th>0</th>\n",
       "      <td>A Light in the Attic</td>\n",
       "      <td>51.77</td>\n",
       "      <td>In stock</td>\n",
       "      <td>3</td>\n",
       "    </tr>\n",
       "    <tr>\n",
       "      <th>1</th>\n",
       "      <td>Tipping the Velvet</td>\n",
       "      <td>53.74</td>\n",
       "      <td>In stock</td>\n",
       "      <td>1</td>\n",
       "    </tr>\n",
       "    <tr>\n",
       "      <th>2</th>\n",
       "      <td>Soumission</td>\n",
       "      <td>50.10</td>\n",
       "      <td>In stock</td>\n",
       "      <td>1</td>\n",
       "    </tr>\n",
       "    <tr>\n",
       "      <th>3</th>\n",
       "      <td>Sharp Objects</td>\n",
       "      <td>47.82</td>\n",
       "      <td>In stock</td>\n",
       "      <td>4</td>\n",
       "    </tr>\n",
       "    <tr>\n",
       "      <th>4</th>\n",
       "      <td>Sapiens: A Brief History of Humankind</td>\n",
       "      <td>54.23</td>\n",
       "      <td>In stock</td>\n",
       "      <td>5</td>\n",
       "    </tr>\n",
       "  </tbody>\n",
       "</table>\n",
       "</div>"
      ],
      "text/plain": [
       "                                   title  price availability  rating\n",
       "0                   A Light in the Attic  51.77     In stock       3\n",
       "1                     Tipping the Velvet  53.74     In stock       1\n",
       "2                             Soumission  50.10     In stock       1\n",
       "3                          Sharp Objects  47.82     In stock       4\n",
       "4  Sapiens: A Brief History of Humankind  54.23     In stock       5"
      ]
     },
     "execution_count": 4,
     "metadata": {},
     "output_type": "execute_result"
    }
   ],
   "source": [
    "def scrape_all():\n",
    "    session = requests.Session()\n",
    "    session.headers.update({'User-Agent': 'Mozilla/5.0 (learning-scraper)'})\n",
    "    url = BASE\n",
    "    rows = []\n",
    "    while True:\n",
    "        r = session.get(url, timeout=10)\n",
    "        r.raise_for_status()\n",
    "        soup = BeautifulSoup(r.text, 'html.parser')\n",
    "\n",
    "        # Loop through all book cards on page\n",
    "        for b in soup.select('article.product_pod'):\n",
    "            rows.append(parse_book(b))\n",
    "\n",
    "        # Next page link\n",
    "        next_btn = soup.select_one('li.next a')\n",
    "        if not next_btn:\n",
    "            break\n",
    "        url = urljoin(url, next_btn['href'])\n",
    "        time.sleep(1)  # polite delay\n",
    "    return pd.DataFrame(rows)\n",
    "\n",
    "# Run scraper\n",
    "df_raw = scrape_all()\n",
    "df_raw.to_csv(\"books_raw.csv\", index=False)\n",
    "df_raw.head()\n",
    "\n"
   ]
  },
  {
   "cell_type": "code",
   "execution_count": null,
   "id": "eca377fa",
   "metadata": {},
   "outputs": [],
   "source": [
    "# Load raw data\n",
    "\n",
    "df = pd.read_csv(\"books_raw.csv\")"
   ]
  },
  {
   "cell_type": "code",
   "execution_count": 6,
   "id": "9400fab0",
   "metadata": {},
   "outputs": [
    {
     "name": "stdout",
     "output_type": "stream",
     "text": [
      "<class 'pandas.core.frame.DataFrame'>\n",
      "RangeIndex: 1000 entries, 0 to 999\n",
      "Data columns (total 4 columns):\n",
      " #   Column        Non-Null Count  Dtype  \n",
      "---  ------        --------------  -----  \n",
      " 0   title         1000 non-null   object \n",
      " 1   price         1000 non-null   float64\n",
      " 2   availability  1000 non-null   object \n",
      " 3   rating        1000 non-null   int64  \n",
      "dtypes: float64(1), int64(1), object(2)\n",
      "memory usage: 31.4+ KB\n",
      "None\n",
      "                                   title  price availability  rating\n",
      "0                   A Light in the Attic  51.77     In stock       3\n",
      "1                     Tipping the Velvet  53.74     In stock       1\n",
      "2                             Soumission  50.10     In stock       1\n",
      "3                          Sharp Objects  47.82     In stock       4\n",
      "4  Sapiens: A Brief History of Humankind  54.23     In stock       5\n"
     ]
    }
   ],
   "source": [
    "# Quick check\n",
    "print(df.info())\n",
    "print(df.head())\n"
   ]
  },
  {
   "cell_type": "code",
   "execution_count": 7,
   "id": "ffd6a1eb",
   "metadata": {},
   "outputs": [],
   "source": [
    "# Clean availability (remove newlines & spaces)\n",
    "df['availability'] = df['availability'].str.replace('\\n',' ').str.strip()\n"
   ]
  },
  {
   "cell_type": "code",
   "execution_count": 8,
   "id": "dd7329f9",
   "metadata": {},
   "outputs": [],
   "source": [
    "# Handle missing ratings\n",
    "df['rating'] = df['rating'].fillna(0).astype(int)"
   ]
  },
  {
   "cell_type": "code",
   "execution_count": 9,
   "id": "f3327ee4",
   "metadata": {},
   "outputs": [],
   "source": [
    "# Drop duplicate titles (if any)\n",
    "df = df.drop_duplicates(subset=['title'])"
   ]
  },
  {
   "cell_type": "code",
   "execution_count": 10,
   "id": "44049e79",
   "metadata": {},
   "outputs": [
    {
     "data": {
      "text/html": [
       "<div>\n",
       "<style scoped>\n",
       "    .dataframe tbody tr th:only-of-type {\n",
       "        vertical-align: middle;\n",
       "    }\n",
       "\n",
       "    .dataframe tbody tr th {\n",
       "        vertical-align: top;\n",
       "    }\n",
       "\n",
       "    .dataframe thead th {\n",
       "        text-align: right;\n",
       "    }\n",
       "</style>\n",
       "<table border=\"1\" class=\"dataframe\">\n",
       "  <thead>\n",
       "    <tr style=\"text-align: right;\">\n",
       "      <th></th>\n",
       "      <th>title</th>\n",
       "      <th>price</th>\n",
       "      <th>availability</th>\n",
       "      <th>rating</th>\n",
       "      <th>price_bin</th>\n",
       "    </tr>\n",
       "  </thead>\n",
       "  <tbody>\n",
       "    <tr>\n",
       "      <th>0</th>\n",
       "      <td>A Light in the Attic</td>\n",
       "      <td>51.77</td>\n",
       "      <td>In stock</td>\n",
       "      <td>3</td>\n",
       "      <td>50+</td>\n",
       "    </tr>\n",
       "    <tr>\n",
       "      <th>1</th>\n",
       "      <td>Tipping the Velvet</td>\n",
       "      <td>53.74</td>\n",
       "      <td>In stock</td>\n",
       "      <td>1</td>\n",
       "      <td>50+</td>\n",
       "    </tr>\n",
       "    <tr>\n",
       "      <th>2</th>\n",
       "      <td>Soumission</td>\n",
       "      <td>50.10</td>\n",
       "      <td>In stock</td>\n",
       "      <td>1</td>\n",
       "      <td>50+</td>\n",
       "    </tr>\n",
       "    <tr>\n",
       "      <th>3</th>\n",
       "      <td>Sharp Objects</td>\n",
       "      <td>47.82</td>\n",
       "      <td>In stock</td>\n",
       "      <td>4</td>\n",
       "      <td>30-50</td>\n",
       "    </tr>\n",
       "    <tr>\n",
       "      <th>4</th>\n",
       "      <td>Sapiens: A Brief History of Humankind</td>\n",
       "      <td>54.23</td>\n",
       "      <td>In stock</td>\n",
       "      <td>5</td>\n",
       "      <td>50+</td>\n",
       "    </tr>\n",
       "  </tbody>\n",
       "</table>\n",
       "</div>"
      ],
      "text/plain": [
       "                                   title  price availability  rating price_bin\n",
       "0                   A Light in the Attic  51.77     In stock       3       50+\n",
       "1                     Tipping the Velvet  53.74     In stock       1       50+\n",
       "2                             Soumission  50.10     In stock       1       50+\n",
       "3                          Sharp Objects  47.82     In stock       4     30-50\n",
       "4  Sapiens: A Brief History of Humankind  54.23     In stock       5       50+"
      ]
     },
     "execution_count": 10,
     "metadata": {},
     "output_type": "execute_result"
    }
   ],
   "source": [
    "# Create price bins\n",
    "df['price_bin'] = pd.cut(df['price'], bins=[0,10,20,30,50,100], \n",
    "                         labels=['0-10','10-20','20-30','30-50','50+'])\n",
    "\n",
    "df.to_csv(\"books_clean.csv\", index=False)\n",
    "df.head()"
   ]
  }
 ],
 "metadata": {
  "kernelspec": {
   "display_name": "Python 3",
   "language": "python",
   "name": "python3"
  },
  "language_info": {
   "codemirror_mode": {
    "name": "ipython",
    "version": 3
   },
   "file_extension": ".py",
   "mimetype": "text/x-python",
   "name": "python",
   "nbconvert_exporter": "python",
   "pygments_lexer": "ipython3",
   "version": "3.12.10"
  }
 },
 "nbformat": 4,
 "nbformat_minor": 5
}
